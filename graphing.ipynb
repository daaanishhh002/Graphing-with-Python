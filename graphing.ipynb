{
 "cells": [
  {
   "cell_type": "markdown",
   "id": "354dbcee-fc48-4d94-9075-debc3a32612c",
   "metadata": {},
   "source": [
    "**Import Libaries**"
   ]
  },
  {
   "cell_type": "code",
   "execution_count": 1,
   "id": "27d297c0-a83b-4be6-a6fb-7bdfcf9f6791",
   "metadata": {
    "tags": []
   },
   "outputs": [],
   "source": [
    "import numpy as np\n",
    "import matplotlib.pyplot as plt\n",
    "import seaborn as sns"
   ]
  },
  {
   "cell_type": "code",
   "execution_count": null,
   "id": "f9bc29e2-d4eb-4d03-bc42-93c9b5035bef",
   "metadata": {},
   "outputs": [],
   "source": []
  }
 ],
 "metadata": {
  "kernelspec": {
   "display_name": "Python 3 (ipykernel)",
   "language": "python",
   "name": "python3"
  },
  "language_info": {
   "codemirror_mode": {
    "name": "ipython",
    "version": 3
   },
   "file_extension": ".py",
   "mimetype": "text/x-python",
   "name": "python",
   "nbconvert_exporter": "python",
   "pygments_lexer": "ipython3",
   "version": "3.11.4"
  }
 },
 "nbformat": 4,
 "nbformat_minor": 5
}
